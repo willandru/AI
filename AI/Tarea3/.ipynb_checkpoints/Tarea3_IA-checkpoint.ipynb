{
 "cells": [
  {
   "cell_type": "markdown",
   "metadata": {},
   "source": [
    "WILLIAM ANDRÉS GÓMEZ ROA"
   ]
  },
  {
   "cell_type": "code",
   "execution_count": 1,
   "metadata": {},
   "outputs": [],
   "source": [
    "import numpy as np\n",
    "import pandas as pd\n",
    "import matplotlib.pyplot as plt"
   ]
  },
  {
   "cell_type": "markdown",
   "metadata": {},
   "source": [
    "# TAREA 3 - INTELIGENCIA ARTIFICIAL\n",
    "\n",
    "### \"Para cada punto de estos resumir en dos párrafos, por favor no copien y peguen. Intenten ustedes mismos hacerlo a partir de las lecturas que hay en las muchas fuentes que tienen a su alcance.\"\n",
    "\n",
    "### 1. Averiguar qué es es el \"coefficient of determination\" y en que tipo de problemas de aprendizaje supervisado se usa.\n",
    "### 2. Intervalo de valores que toma y explicarlos. \n",
    "### 3. Importa el orden de los argumentos de la entrada en la función de Sklearn? exlique que son.y por que importa. \n",
    "### 4. Qué significa si da negativo o cero? puede pasar? antes de elevar por supuesto.\n",
    "### 5. Hallar el R cuadrado a nuestros datos de resistencia obtenidos a partir de una hipótesis lineal de 2 parámetros, cuanto les da!\n",
    "### 6. Revisar paquetes de visualización: https://seaborn.pydata.org/tutorial/regression.html. Averigüe cómo o puede representar una regresión usando seaborn y que gráficas hay disponibles para representar regresiones."
   ]
  },
  {
   "cell_type": "markdown",
   "metadata": {},
   "source": [
    "## COEFICIENTE DE DETERMINACIÓN : R^2\n",
    "\n",
    "Es una estadistica utilizada para evaluar el modelo lineal. Indica en que cantidad se puede predecir la varianza de la variable dependiente Y (eqtiqueta), a partir de las variables independientes X (caracteristicas). \n",
    "\n",
    "Esta métrica es utilizada principalmente en problemas supervisados de regresión y proporciona una medida útil del poder predictivo de los modelos de regresión.\n"
   ]
  },
  {
   "cell_type": "markdown",
   "metadata": {},
   "source": [
    "## INTERVALOS DE VALORES QUE TOMA Y EXPLICARLOS\n",
    "\n",
    "El intervalo de R-cuadrado que permite determinar cuanto de la varianza de la variable independiente se está  explicando por las variables dependientes es de 0 a 1. Sin embargo es posible que el resultado de la ecuación sean valores negativos, lo cual implica únicamente que el modelo se ajusta peor que una linea horizontal que pasa por la media de los datos. En general se obtienen valores entre (0,1) que representan la explicabilidad de la varianza de Y con nuestro modelo lineal, que es un rango difuso desde malo hasta bueno.  \n",
    "\n",
    "Un valor de 1 indica que el modelo explica toda la variabilidad de los datos, lo cúal es el caso ideal que se espera, pero obtenerlo en la vida real es una alerta de que algo no esta bien, ya que obtener 1.0 exactamente con un modelo de datos reales no acontaría mucho para casos externos al dataset , es decir se trata de overfitting."
   ]
  },
  {
   "cell_type": "markdown",
   "metadata": {},
   "source": [
    "## IMPORTA EL ORDEN EN r2_score() DE SKLEARN?\n",
    "Si ya que en el caso de esta librería se ha implementado la función como:\n",
    "\n",
    "R2= 1 - (SSres / SStot)\n",
    "\n",
    "Donde SStot Es la variación total de los datos o la suma total al cuadrado, este témrino no tiene problemas de signo por el cuadrado, sin embargo SSres es la suma de los cuadrados de los residuos que es la diferencia entre los valores reales y los valores predichos por el modelo.\n",
    "\n",
    "Por esto, el orden si importa especificamente en esta implementación de esta librería.\n"
   ]
  },
  {
   "cell_type": "markdown",
   "metadata": {},
   "source": [
    "##  QUE SIGNIFICA SI DA NEGATIVO O CERO? PUEDE PASAR? ANTES DE ELEVAR POR SU PUESTO.\n",
    "\n",
    "Como se mencionó antes si puede dar negativo y esto significa que el modelo es peor que la media de los datos para predecir la varianza de la variable independiente. Si su valor es 0 significa que el modelo es igual a la media de los datos."
   ]
  },
  {
   "cell_type": "markdown",
   "metadata": {},
   "source": [
    "## R^2 DE LOS DATOS DE CORRIENTE VS VOLTAJE"
   ]
  },
  {
   "cell_type": "code",
   "execution_count": 2,
   "metadata": {},
   "outputs": [
    {
     "data": {
      "image/png": "[encoded data removed]",
      "text/plain": [
       "<Figure size 432x288 with 1 Axes>"
      ]
     },
     "metadata": {
      "needs_background": "light"
     },
     "output_type": "display_data"
    }
   ],
   "source": [
    "voltaje=np.array([1, 1.5, 2, 2.5, 3, 3.5 , 4, 4.5, 5, 5.5, 6]);\n",
    "x0=np.ones(voltaje.shape);\n",
    "corriente=np.array([0.16,0.28,0.38,0.47,0.60,0.73,0.79,0.87,0.84,0.86,0.96]);\n",
    "X=np.matrix([x0,voltaje]).T;\n",
    "Y=np.matrix([corriente]).T;\n",
    "\n",
    "Theta=np.linalg.inv(X.T*X)*(X.T)*Y;\n",
    "plt.plot(voltaje,corriente, 'bo');\n",
    "plt.plot(voltaje,Theta[0,0]+Theta[1,0]*voltaje);\n",
    "plt.title(\"Final\");\n",
    "plt.show()\n",
    "\n",
    "y_pred=Theta[0,0]+Theta[1,0]*voltaje;"
   ]
  },
  {
   "cell_type": "code",
   "execution_count": 3,
   "metadata": {},
   "outputs": [
    {
     "name": "stdout",
     "output_type": "stream",
     "text": [
      "El R2 es: 0.9385079041558958\n"
     ]
    }
   ],
   "source": [
    "from sklearn.metrics import r2_score\n",
    "\n",
    "y_pred = Theta[0, 0] + Theta[1, 0] * voltaje\n",
    "\n",
    "R2 = r2_score(corriente, y_pred)\n",
    "print('El R2 es: '+ str(R2))"
   ]
  },
  {
   "cell_type": "markdown",
   "metadata": {},
   "source": [
    "##  Seaborn - Visualización de Regresión lineal"
   ]
  },
  {
   "cell_type": "markdown",
   "metadata": {},
   "source": [
    "###  Básica  :Scatterplot + Fit line + 95% confidence interval"
   ]
  },
  {
   "cell_type": "markdown",
   "metadata": {},
   "source": [
    "Tenemos los metodos regplot() y lmplot() para mostrar el scaterplot, la linea de ajuste y el intervalo de confianza del 95%."
   ]
  },
  {
   "cell_type": "code",
   "execution_count": 4,
   "metadata": {},
   "outputs": [
    {
     "data": {
      "image/png": "[encoded data removed]",
      "text/plain": [
       "<Figure size 432x288 with 1 Axes>"
      ]
     },
     "metadata": {
      "needs_background": "light"
     },
     "output_type": "display_data"
    }
   ],
   "source": [
    "import seaborn as sns\n",
    "\n",
    "ax= sns.regplot(x=voltaje, y=corriente, color=\"green\");\n",
    "ax.set_title('Regresión lineal usando regplot()');\n",
    "ax.set_xlabel(' Voltaje [V]');\n",
    "ax.set_ylabel('COrriente [A]');\n"
   ]
  },
  {
   "cell_type": "markdown",
   "metadata": {},
   "source": [
    "Tenemos el método joinplot() que crea un gráfico de distribución conjunta con histogramas marginales y una línea de regresión. Esto es útil para visualizar la distribución de dos variables y su relación."
   ]
  },
  {
   "cell_type": "code",
   "execution_count": null,
   "metadata": {},
   "outputs": [],
   "source": [
    " sns.jointplot(x=voltaje, y=corriente, kind=\"reg\");\n",
    "\n",
    "plt.xlabel(' Voltaje [V]')\n",
    "plt.ylabel('COrriente [A]')"
   ]
  },
  {
   "cell_type": "markdown",
   "metadata": {},
   "source": [
    "residplot() crea una gráfica de dispersión de los residuos (es decir, las diferencias entre los valores predichos y reales) contra la variable independiente. Esto es útil para comprobar los supuestos del modelo de regresión lineal, como la linealidad, la homocedasticidad y la normalidad.\n",
    "\n",
    "Lo esperado es no observar ningun patron en esta grafica es decir que todos los puntos esten sobre la linea punteada y no se observen patrones extraños, como es en este caso que se observa una pequeña montaña, podemos sospechar de supuestos como linealidad, normalidad y homocedasticidad."
   ]
  },
  {
   "cell_type": "code",
   "execution_count": null,
   "metadata": {},
   "outputs": [],
   "source": [
    "sns.residplot(x=voltaje, y=corriente);\n",
    "plt.title('Grafica de los RESIDUALES')\n",
    "plt.xlabel(' Voltaje [V]')\n",
    "plt.ylabel('COrriente [A]')"
   ]
  },
  {
   "cell_type": "markdown",
   "metadata": {},
   "source": [
    "Por último uno de los gráficos más importantes, es un gráfico que se utiliza por defecto en un análisis de regresión lineal en R utilizando la libreria ggplot() y es porque es demasiado importante y útil.Este gráfico crea una cuadrícula de diagramas de dispersión para todas las combinaciones de variables, con histogramas en la diagonal y líneas de regresión fuera de la diagonal. Esto es útil para explorar las relaciones entre múltiples variables y sus asociaciones entre sí.\n",
    "\n",
    "Aca estamos viendo la relación lineal entre x-Y y Y-x pero así mismo la veriamos para toas las X_n que se puedan tener en un problema de regresión múltiple."
   ]
  },
  {
   "cell_type": "code",
   "execution_count": null,
   "metadata": {},
   "outputs": [],
   "source": [
    "data = {'X': voltaje, 'Y': corriente}\n",
    "df = pd.DataFrame(data)\n",
    "\n",
    "sns.pairplot(data=df, kind='reg', diag_kind='hist')\n",
    "\n",
    "plt.suptitle('Pairplot of X y Y')\n"
   ]
  },
  {
   "cell_type": "markdown",
   "metadata": {},
   "source": [
    "# PUNTO FINAL"
   ]
  },
  {
   "cell_type": "markdown",
   "metadata": {},
   "source": [
    "## Realizar por lo menos 3 regresiones para datos de su preferencia, puede tomarlos como alguna fuente como kaggle o similares. Suponga usted varias funciones de hipótesis, mida usando r². Compare sus resultados."
   ]
  },
  {
   "cell_type": "code",
   "execution_count": null,
   "metadata": {},
   "outputs": [],
   "source": [
    "DF= pd.read_csv('winequality-red.csv', delimiter=';')"
   ]
  },
  {
   "cell_type": "markdown",
   "metadata": {},
   "source": [
    "El dataset escogido pertenece a UCI Machine Learning Repository, y cuanta con 12 variables entre las que tenemos:\n",
    "1-  fixed acidity\n",
    "2 - volatile acidity\n",
    "3 - citric acid\n",
    "4 - residual sugar\n",
    "5 - chlorides\n",
    "6 - free sulfur dioxide\n",
    "7 - total sulfur dioxide\n",
    "8 - density\n",
    "9 - pH\n",
    "10 - sulphates\n",
    "11 - alcohol\n",
    "VARIABLE DE SALIDA(based on sensory data):\n",
    "12 - quality (score between 0 and 10)\n",
    "\n",
    "Podemos ver que el dataset esta hecho con la intención de predecir la variable categorica 'quality'."
   ]
  },
  {
   "cell_type": "markdown",
   "metadata": {},
   "source": [
    "### EDA: Exploratory Data Analysis"
   ]
  },
  {
   "cell_type": "code",
   "execution_count": null,
   "metadata": {},
   "outputs": [],
   "source": [
    "DF.head()"
   ]
  },
  {
   "cell_type": "code",
   "execution_count": null,
   "metadata": {},
   "outputs": [],
   "source": [
    "#DF.describe()\n",
    "DF.info()"
   ]
  },
  {
   "cell_type": "markdown",
   "metadata": {},
   "source": [
    "A partir de la siguiente gráfica podremos ver los scatterplot y las lineas de ajuste para todas nuestras variables y de esta manera escoger nuestra Y de interes y nuestra X de interes para nuestro problema de regresión simple. O inclusive podriamos escoger y determinar varias X"
   ]
  },
  {
   "cell_type": "code",
   "execution_count": null,
   "metadata": {},
   "outputs": [],
   "source": [
    "sns.pairplot(data=DF, kind='reg', diag_kind='hist')\n",
    "\n",
    "plt.suptitle('Pairplot of X y Y')"
   ]
  },
  {
   "cell_type": "markdown",
   "metadata": {},
   "source": [
    "### Me parece interesante intentar predecir el grado de alcohol basandose en la densidad"
   ]
  },
  {
   "cell_type": "code",
   "execution_count": null,
   "metadata": {},
   "outputs": [],
   "source": [
    "X=DF['density'].values\n",
    "Y=DF['alcohol'].values\n",
    "\n",
    "X = X.reshape(-1, 1)\n",
    "Y = Y.reshape(-1, 1)"
   ]
  },
  {
   "cell_type": "markdown",
   "metadata": {},
   "source": [
    "MODELO 1:  Y~X\n",
    "MODELO 2:  Y~sqrt(X)\n",
    "MODELO 3:  Y~X^8"
   ]
  },
  {
   "cell_type": "code",
   "execution_count": null,
   "metadata": {},
   "outputs": [],
   "source": [
    "from sklearn.linear_model import LinearRegression\n",
    "\n",
    "model1= LinearRegression();\n",
    "model1.fit(X,Y);\n",
    "\n",
    "model2= LinearRegression();\n",
    "model2.fit(X**0.5,Y);\n",
    "\n",
    "model3= LinearRegression();\n",
    "model3.fit(X**8,Y);"
   ]
  },
  {
   "cell_type": "code",
   "execution_count": null,
   "metadata": {},
   "outputs": [],
   "source": [
    "y_pred_1 = model1.predict(X)\n",
    "y_pred_2 = model2.predict(X)\n",
    "y_pred_3 = model3.predict(X)"
   ]
  },
  {
   "cell_type": "code",
   "execution_count": null,
   "metadata": {},
   "outputs": [],
   "source": [
    "\n",
    "R2_1 = r2_score(Y, y_pred_1)\n",
    "R2_2 = r2_score(Y, y_pred_2)\n",
    "R2_3 = r2_score(Y, y_pred_3)\n",
    "\n",
    "print('El R2 del modelo 1 es: '+ str(R2_1))\n",
    "print('El R2 del modelo 2 es: '+ str(R2_2))\n",
    "print('El R2 del modelo 3 es: '+ str(R2_3))"
   ]
  },
  {
   "cell_type": "code",
   "execution_count": null,
   "metadata": {},
   "outputs": [],
   "source": [
    "fig, axs = plt.subplots(ncols=3, figsize=(15, 5))\n",
    "\n",
    "# Plot the data in each subplot using sns.regplot()\n",
    "sns.regplot(x=X, y=Y, ax=axs[0])\n",
    "sns.regplot(x=X**0.5, y=Y, ax=axs[1])\n",
    "sns.regplot(x=X**8, y=Y, ax=axs[2])\n",
    "\n",
    "axs[0].set_title('Modelo 1 R^2= 0.24')\n",
    "axs[0].set_xlabel('X')\n",
    "axs[0].set_ylabel('Y')\n",
    "\n",
    "axs[1].set_title('Modelo 2 R^2= -0.7')\n",
    "axs[1].set_xlabel('sqrt(X)')\n",
    "axs[1].set_ylabel('Y')\n",
    "\n",
    "axs[2].set_title('Modelo 3 R^2= -0.49')\n",
    "axs[2].set_xlabel('X^8')\n",
    "axs[2].set_ylabel('Y')\n",
    "\n",
    "# Add a title to the figure\n",
    "fig.suptitle('COMPARACIÓN R^2 PARA DISTINTOS MODELOS DE REGRESIÓN')"
   ]
  }
 ],
 "metadata": {
  "kernelspec": {
   "display_name": "Python 3",
   "language": "python",
   "name": "python3"
  },
  "language_info": {
   "codemirror_mode": {
    "name": "ipython",
    "version": 3
   },
   "file_extension": ".py",
   "mimetype": "text/x-python",
   "name": "python",
   "nbconvert_exporter": "python",
   "pygments_lexer": "ipython3",
   "version": "3.8.10"
  }
 },
 "nbformat": 4,
 "nbformat_minor": 5
}
