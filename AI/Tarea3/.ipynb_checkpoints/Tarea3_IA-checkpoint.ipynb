{
 "cells": [
  {
   "cell_type": "code",
   "execution_count": 1,
   "id": "4f645c46",
   "metadata": {},
   "outputs": [],
   "source": [
    "import numpy as np\n",
    "import pandas as pd\n",
    "import matplotlib.pyplot as plt"
   ]
  },
  {
   "cell_type": "markdown",
   "id": "815a0a02",
   "metadata": {},
   "source": [
    "# TAREA 3 - INTELIGENCIA ARTIFICIAL\n",
    "\n",
    "### \"Para cada punto de estos resumir en dos párrafos, por favor no copien y peguen. Intenten ustedes mismos hacerlo a partir de las lecturas que hay en las muchas fuentes que tienen a su alcance.\"\n",
    "\n",
    "### 1. Averiguar qué es es el \"coefficient of determination\" y en que tipo de problemas de aprendizaje supervisado se usa.\n",
    "### 2. Intervalo de valores que toma y explicarlos. \n",
    "### 3. Importa el orden de los argumentos de la entrada en la función de Sklearn? exlique que son.y por que importa. \n",
    "### 4. Qué significa si da negativo o cero? puede pasar? antes de elevar por supuesto.\n",
    "### 5. Hallar el R cuadrado a nuestros datos de resistencia obtenidos a partir de una hipótesis lineal de 2 parámetros, cuanto les da!\n",
    "### 6. Revisar paquetes de visualización: https://seaborn.pydata.org/tutorial/regression.html. Averigüe cómo o puede representar una regresión usando seaborn y que gráficas hay disponibles para representar regresiones."
   ]
  },
  {
   "cell_type": "markdown",
   "id": "b5a00714",
   "metadata": {},
   "source": [
    "## 1. COEFICIENTE DE DETERMINACIÓN : R^2\n",
    "\n",
    "Es una estadistica utilizada para evaluar el modelo lineal. Indica en que cantidad se puede predecir la varianza de la variable dependiente Y (eqtiqueta), a partir de las variables independientes X (caracteristicas). \n"
   ]
  },
  {
   "cell_type": "markdown",
   "id": "da2828ef",
   "metadata": {},
   "source": [
    "## 2. INTERVALOS DE VALORES QUE TOMA Y EXPLICARLOS\n",
    "\n",
    "El intervalo de R-cuadrado que permite determinar cuanto de la varianza de la variable independiente se está  explicando por las variables dependientes es de 0 a 1. Sin embargo es posible que el resultado de la ecuación sean valores negativos, lo cual implica únicamente que el modelo se ajusta peor que una linea horizontal que pasa por la media de los datos. En general se obtienen valores entre (0,1) que representan la explicabilidad de la varianza de Y con nuestro modelo lineal, que es un rango difuso desde malo hasta bueno.  \n",
    "\n",
    "Un valor de 1 indica que el modelo explica toda la variabilidad de los datos, lo cúal es el caso ideal que se espera, pero obtenerlo en la vida real es una alerta de que algo no esta bien, ya que obtener 1.0 exactamente con un modelo de datos reales no acontaría mucho para casos externos al dataset , es decir se trata de overfitting."
   ]
  },
  {
   "cell_type": "markdown",
   "id": "ef8e7c6d",
   "metadata": {},
   "source": [
    "## 3. IMPORTA EL ORDEN EN r2_score() DE SKLEARN?\n",
    "Si ya que en el caso de esta librería se ha implementado la función como:\n",
    "\n",
    "R2= 1 - (SSres / SStot)\n",
    "\n",
    "Donde SStot Es la variación total de los datos o la suma total al cuadrado, este témrino no tiene problemas de signo por el cuadrado, sin embargo SSres es la suma de los cuadrados de los residuos que es la diferencia entre los valores reales y los valores predichos por el modelo.\n",
    "\n",
    "Por esto, el orden si importa especificamente en esta implementación de esta librería.\n"
   ]
  },
  {
   "cell_type": "markdown",
   "id": "eb3c0a3e",
   "metadata": {},
   "source": [
    "## 4. QUE SIGNIFICA SI DA NEGATIVO O CERO? PUEDE PASAR? ANTES DE ELEVAR POR SU PUESTO.\n",
    "\n",
    "Como se mencionó antes si puede dar negativo y esto significa que el modelo es peor que la media de los datos para predecir la varianza de la variable independiente. Si su valor es 0 significa que el modelo es igual a la media de los datos."
   ]
  },
  {
   "cell_type": "markdown",
   "id": "2131c7d6",
   "metadata": {},
   "source": [
    "## 5. R^2 DE LOS DATOS DE CORRIENTE VS VOLTAJE"
   ]
  },
  {
   "cell_type": "code",
   "execution_count": 13,
   "id": "0158a2b8",
   "metadata": {},
   "outputs": [
    {
     "name": "stdout",
     "output_type": "stream",
     "text": [
      "[[0.07790909]\n",
      " [0.158     ]]\n"
     ]
    },
    {
     "data": {
      "image/png": "[encoded data removed]",
      "text/plain": [
       "<Figure size 640x480 with 1 Axes>"
      ]
     },
     "metadata": {},
     "output_type": "display_data"
    }
   ],
   "source": [
    "voltaje=np.array([1, 1.5, 2, 2.5, 3, 3.5 , 4, 4.5, 5, 5.5, 6])\n",
    "x0=np.ones(voltaje.shape)\n",
    "corriente=np.array([0.16,0.28,0.38,0.47,0.60,0.73,0.79,0.87,0.84,0.86,0.96])\n",
    "X=np.matrix([x0,voltaje]).T\n",
    "Y=np.matrix([corriente]).T\n",
    "\n",
    "Theta=np.linalg.inv(X.T*X)*(X.T)*Y\n",
    "print(Theta)\n",
    "plt.plot(voltaje,corriente, 'bo')\n",
    "plt.plot(voltaje,Theta[0,0]+Theta[1,0]*voltaje)\n",
    "plt.title(\"Final\")\n",
    "plt.show()\n",
    "\n",
    "y_pred=Theta[0,0]+Theta[1,0]*voltaje"
   ]
  },
  {
   "cell_type": "code",
   "execution_count": 21,
   "id": "c4d9947d",
   "metadata": {},
   "outputs": [
    {
     "ename": "ModuleNotFoundError",
     "evalue": "No module named 'sklearn'",
     "output_type": "error",
     "traceback": [
      "\u001b[0;31m---------------------------------------------------------------------------\u001b[0m",
      "\u001b[0;31mModuleNotFoundError\u001b[0m                       Traceback (most recent call last)",
      "Cell \u001b[0;32mIn [21], line 1\u001b[0m\n\u001b[0;32m----> 1\u001b[0m \u001b[38;5;28;01mfrom\u001b[39;00m \u001b[38;5;21;01msklearn\u001b[39;00m\u001b[38;5;21;01m.\u001b[39;00m\u001b[38;5;21;01mmetrics\u001b[39;00m \u001b[38;5;28;01mimport\u001b[39;00m r2_score\n\u001b[1;32m      3\u001b[0m R2\u001b[38;5;241m=\u001b[39m r2_score(Y, y_pred)\n",
      "\u001b[0;31mModuleNotFoundError\u001b[0m: No module named 'sklearn'"
     ]
    }
   ],
   "source": [
    "from sklearn.metrics import r2_score\n",
    "\n",
    "R2= r2_score(Y, y_pred)"
   ]
  },
  {
   "cell_type": "markdown",
   "id": "4135563f",
   "metadata": {},
   "source": [
    "## 6. Seaborn - Visualización de Regresión lineal"
   ]
  },
  {
   "cell_type": "markdown",
   "id": "7b459e26",
   "metadata": {},
   "source": [
    "###  Básica  :Scatterplot + Fit line + 95% confidence interval"
   ]
  },
  {
   "cell_type": "code",
   "execution_count": null,
   "id": "3c9f795f",
   "metadata": {},
   "outputs": [],
   "source": [
    "\n",
    "fig, axs = plt.subplots(nrows=1, ncols=2, figsize=(8, 4))\n",
    "\n",
    "# plot data on first axis\n",
    "sns.regplot(x=voltaje, y=corriente, ax=axs[0]);\n",
    "axs[0].set_title(' regplot()')\n",
    "\n",
    "# plot data on second axis\n",
    "axs[1].plot([1, 2, 3], [6, 5, 4])\n",
    "axs[1].set_title('Plot 2')\n",
    "\n",
    "# add a title to the entire figure\n",
    "fig.suptitle('Seaborn')\n",
    "\n",
    "# display the plots\n",
    "plt.show()"
   ]
  },
  {
   "cell_type": "code",
   "execution_count": null,
   "id": "73f09d79",
   "metadata": {},
   "outputs": [],
   "source": []
  },
  {
   "cell_type": "code",
   "execution_count": null,
   "id": "a82673ab",
   "metadata": {},
   "outputs": [],
   "source": []
  }
 ],
 "metadata": {
  "kernelspec": {
   "display_name": "multiple-regression",
   "language": "python",
   "name": "multiple-regression"
  },
  "language_info": {
   "codemirror_mode": {
    "name": "ipython",
    "version": 3
   },
   "file_extension": ".py",
   "mimetype": "text/x-python",
   "name": "python",
   "nbconvert_exporter": "python",
   "pygments_lexer": "ipython3",
   "version": "3.11.1"
  }
 },
 "nbformat": 4,
 "nbformat_minor": 5
}
