{
 "cells": [
  {
   "cell_type": "markdown",
   "id": "93abf18f",
   "metadata": {},
   "source": [
    "# TAREA 2 - IA"
   ]
  },
  {
   "cell_type": "code",
   "execution_count": 1,
   "id": "7d5d1ec2",
   "metadata": {},
   "outputs": [],
   "source": [
    "import numpy as np\n",
    "import pandas as pd\n",
    "import matplotlib.pyplot as plt\n"
   ]
  },
  {
   "cell_type": "markdown",
   "id": "2c604a3a",
   "metadata": {},
   "source": [
    "## Punto 1. Completar las celdas faltantes para cada distribución solicitada en: \n",
    "### https://github.com/calderonf/CursoMachineLearning/blob/master/Codigo/Taller_en_clase_Intro_a_la_probabilidad_para_ML_estudiante.ipynb\n",
    "\n",
    "."
   ]
  },
  {
   "cell_type": "code",
   "execution_count": null,
   "id": "4db13258",
   "metadata": {},
   "outputs": [],
   "source": [
    "numpy.random.seed(seed=2**32 - 1) #Fijamos una semilla, para obtener el mismo número pseudo-aleatoriio cada vez.\n",
    "\n",
    "#Para todas las simulaciones:\n",
    "N=100000\n",
    "m=3000\n"
   ]
  },
  {
   "cell_type": "markdown",
   "id": "30f34e11",
   "metadata": {},
   "source": [
    "### Ejemplo de clase: BERNOULLI con cierto p entre 0 y 1"
   ]
  },
  {
   "cell_type": "code",
   "execution_count": null,
   "id": "76beba30",
   "metadata": {},
   "outputs": [],
   "source": [
    "p=0.3\n"
   ]
  },
  {
   "cell_type": "code",
   "execution_count": null,
   "id": "1ef46d8d",
   "metadata": {},
   "outputs": [],
   "source": []
  },
  {
   "cell_type": "code",
   "execution_count": null,
   "id": "36004b63",
   "metadata": {},
   "outputs": [],
   "source": []
  },
  {
   "cell_type": "code",
   "execution_count": null,
   "id": "b976a5b9",
   "metadata": {},
   "outputs": [],
   "source": []
  },
  {
   "cell_type": "code",
   "execution_count": null,
   "id": "e3e474e3",
   "metadata": {},
   "outputs": [],
   "source": []
  },
  {
   "cell_type": "code",
   "execution_count": null,
   "id": "18cfae37",
   "metadata": {},
   "outputs": [],
   "source": []
  }
 ],
 "metadata": {
  "kernelspec": {
   "display_name": "multiple-regression",
   "language": "python",
   "name": "multiple-regression"
  },
  "language_info": {
   "codemirror_mode": {
    "name": "ipython",
    "version": 3
   },
   "file_extension": ".py",
   "mimetype": "text/x-python",
   "name": "python",
   "nbconvert_exporter": "python",
   "pygments_lexer": "ipython3",
   "version": "3.11.1"
  }
 },
 "nbformat": 4,
 "nbformat_minor": 5
}
