{
 "cells": [
  {
   "cell_type": "code",
   "execution_count": null,
   "id": "24673949",
   "metadata": {},
   "outputs": [],
   "source": [
    " pip install -U scikit-fuzzy"
   ]
  },
  {
   "cell_type": "code",
   "execution_count": 2,
   "id": "28599c36",
   "metadata": {},
   "outputs": [],
   "source": [
    "import numpy as np\n",
    "import skfuzzy as fuzz\n",
    "from skfuzzy import control as ctrl\n",
    "\n",
    "#1.DECLARAMOS LAS VARIABLES DE ENTRADA Y SALIDA\n",
    "\n",
    "#INPUTS\n",
    "calidad_comida = ctrl.Antecedent(np.arange(0,101,1), 'calidad_comida')\n",
    "servicio = ctrl.Antecedent(np.arange(0,101,1), 'servicio')\n",
    "#OUTPUT\n",
    "propina = ctrl.Consequent(np.arange(0,101,1), 'propina')\n",
    "\n",
    "\n",
    "\n"
   ]
  },
  {
   "cell_type": "code",
   "execution_count": 3,
   "id": "357da6ff",
   "metadata": {},
   "outputs": [],
   "source": [
    "#2. ASIGNAMOS MEMBRESIAS:\n",
    "\n",
    "#aUTO-MEMBERSHIP FUNCTION POPULATION\n",
    "\n",
    "calidad_comida['desagradable']= fuzz.trimf(calidad_comida.universe, [0,0,20])\n",
    "calidad_comida['mediocre']= fuzz.gaussmf(calidad_comida.universe,30,15)\n",
    "calidad_comida['normal']= fuzz.gaussmf(calidad_comida.universe, 50,5.0)\n",
    "calidad_comida['rica']= fuzz.trimf(calidad_comida.universe, [50,70,85])\n",
    "calidad_comida['deliciosa']= fuzz.gbellmf(calidad_comida.universe, 20,70,100)\n",
    "\n",
    "servicio['nulo']= fuzz.trimf(propina.universe, [0,0,20])\n",
    "servicio['malo']= fuzz.trimf(propina.universe, [15,20,40])\n",
    "servicio['normal']= fuzz.trimf(propina.universe, [30,50,60])\n",
    "servicio['bueno']= fuzz.trimf(propina.universe, [50,70,85])\n",
    "servicio['excelente']= fuzz.trimf(propina.universe, [75,100,100])\n",
    "\n",
    "#Manually: trimf = triangular membership function\n",
    "\n",
    "propina['nada']= fuzz.trimf(propina.universe, [0,0,20])\n",
    "propina['poca']= fuzz.trimf(propina.universe, [15,20,40])\n",
    "propina['media']= fuzz.trimf(propina.universe, [30,50,60])\n",
    "propina['moderada']= fuzz.trimf(propina.universe, [50,70,85])\n",
    "propina['alta']= fuzz.trimf(propina.universe, [75,100,100])\n"
   ]
  },
  {
   "cell_type": "code",
   "execution_count": null,
   "id": "29346fd4",
   "metadata": {},
   "outputs": [],
   "source": [
    "# To view the plots:\n",
    "\n",
    "calidad_comida['normal'].view() #EL conjunto \"AVERAGE\" se resaltará\n",
    "servicio.view()\n",
    "propina.view()"
   ]
  },
  {
   "cell_type": "code",
   "execution_count": 4,
   "id": "9d433c8d",
   "metadata": {},
   "outputs": [],
   "source": [
    "#3. HACER LOS CONJUNTOS DE REGLAS (IF THEN)\n",
    "\n",
    "rule1 = ctrl.Rule(calidad_comida['desagradable'] | servicio['nulo'], propina['nada'])\n",
    "rule2=ctrl.Rule(calidad_comida['mediocre'] | servicio['malo'] ,propina['poca'])\n",
    "rule3= ctrl.Rule(calidad_comida['normal'] | servicio['normal'], propina['media'])\n",
    "rule4=ctrl.Rule(calidad_comida['rica'] | servicio['bueno'], propina['moderada'])\n",
    "rule5=ctrl.Rule(calidad_comida['deliciosa'] | servicio['excelente'], propina['alta'])"
   ]
  },
  {
   "cell_type": "code",
   "execution_count": 5,
   "id": "df3f3f4d",
   "metadata": {},
   "outputs": [],
   "source": [
    "#4. DEFINIR EL CONTROL DEL SISTEMA\n",
    "\n",
    "tipping_ctrl = ctrl.ControlSystem([rule1, rule2, rule3, rule4, rule5])\n",
    "\n",
    "tipping= ctrl.ControlSystemSimulation(tipping_ctrl)\n",
    "\n"
   ]
  },
  {
   "cell_type": "code",
   "execution_count": 9,
   "id": "1aa27d66",
   "metadata": {},
   "outputs": [],
   "source": [
    "# 5. DEFINIR LAS ENTRADAS NUMPERICAS PARA CADA VARIABLE DE ENTRADA\n",
    "tipping.input['calidad_comida']=100\n",
    "tipping.input['servicio'] = 9.8\n",
    "\n"
   ]
  },
  {
   "cell_type": "code",
   "execution_count": 10,
   "id": "9faeaa7f",
   "metadata": {},
   "outputs": [],
   "source": [
    "# HACER LA FUZZYFICACION Y DESFUZZIFICACION DEL SISTEMA\n",
    "tipping.compute()\n",
    "# IMPRIMIR LOS RESULTADOS\n"
   ]
  },
  {
   "cell_type": "code",
   "execution_count": 11,
   "id": "9fc2c92e",
   "metadata": {},
   "outputs": [
    {
     "name": "stdout",
     "output_type": "stream",
     "text": [
      "59.9355780372368\n"
     ]
    }
   ],
   "source": [
    "\n",
    "print(tipping.output['propina'])\n",
    "#tip.view(tipping)"
   ]
  }
 ],
 "metadata": {
  "kernelspec": {
   "display_name": "Python 3 (ipykernel)",
   "language": "python",
   "name": "python3"
  },
  "language_info": {
   "codemirror_mode": {
    "name": "ipython",
    "version": 3
   },
   "file_extension": ".py",
   "mimetype": "text/x-python",
   "name": "python",
   "nbconvert_exporter": "python",
   "pygments_lexer": "ipython3",
   "version": "3.9.12"
  }
 },
 "nbformat": 4,
 "nbformat_minor": 5
}
