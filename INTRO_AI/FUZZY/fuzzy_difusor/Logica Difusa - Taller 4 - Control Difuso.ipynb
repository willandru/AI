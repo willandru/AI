{
 "cells": [
  {
   "cell_type": "markdown",
   "metadata": {},
   "source": [
    "<h3>Lógica Difusa - Taller 4 - Control Difuso</h3>"
   ]
  },
  {
   "cell_type": "code",
   "execution_count": null,
   "metadata": {
    "scrolled": true
   },
   "outputs": [],
   "source": [
    "# Librerías requeridas\n",
    "import numpy as np\n",
    "from matplotlib import pyplot as plt\n",
    "from fuzzy import *"
   ]
  },
  {
   "cell_type": "code",
   "execution_count": null,
   "metadata": {},
   "outputs": [],
   "source": [
    "#\n",
    "# Aplicación de lógica difusa para el control de posición.\n",
    "# Profesor Guía: Claudio Morales Díaz \n",
    "# Santiago, Chile, 2020.\n",
    "# "
   ]
  },
  {
   "cell_type": "markdown",
   "metadata": {},
   "source": [
    "<h4>1. Definimos las variables linguistica de entrada y salida</h4>"
   ]
  },
  {
   "cell_type": "code",
   "execution_count": null,
   "metadata": {},
   "outputs": [],
   "source": [
    "# Universo de discurso para el error\n",
    "e = np.linspace(-20, 20, 100)\n",
    "\n",
    "# Funciones de pertenencia para el error\n",
    "ENG = trapmf(e, [-20, -20, -10, -5])\n",
    "ENP = trimf(e, [-10, -5, 0])\n",
    "EC = trimf(e, [-5, 0, 5])\n",
    "EPP = trimf(e, [0, 5, 10])\n",
    "EPG = trapmf(e, [5, 10, 20, 20])\n",
    "\n",
    "# Universo de discurso para el voltaje del motor\n",
    "v = np.linspace(-12, 12, 100)\n",
    "\n",
    "# Funciones de pertenencia para el error\n",
    "VNG = trapmf(v, [-12, -12, -6, -3])\n",
    "VNP = trimf(v, [-6, -3, 0])\n",
    "VC = trimf(v, [-3, 0, 3])\n",
    "VPP = trimf(v, [0, 3, 6])\n",
    "VPG = trapmf(v, [3, 6, 12, 12])"
   ]
  },
  {
   "cell_type": "code",
   "execution_count": null,
   "metadata": {},
   "outputs": [],
   "source": [
    "#gráficos para el error\n",
    "plt.plot(e, ENG, label=\"ENG\")\n",
    "plt.plot(e, ENP, label=\"ENP\")\n",
    "plt.plot(e, EC, label=\"EC\")\n",
    "plt.plot(e, EPP, label=\"EPP\")\n",
    "plt.plot(e, EPG, label=\"EPG\")\n",
    "plt.legend(loc='best')\n",
    "plt.xlabel('error')\n",
    "plt.ylabel('$\\mu (e)$')\n",
    "plt.show()"
   ]
  },
  {
   "cell_type": "code",
   "execution_count": null,
   "metadata": {},
   "outputs": [],
   "source": [
    "#gráficos para el voltaje\n",
    "plt.plot(v, VNG, label=\"VNG\")\n",
    "plt.plot(v, VNP, label=\"VNP\")\n",
    "plt.plot(v, VC, label=\"VC\")\n",
    "plt.plot(v, VPP, label=\"VPP\")\n",
    "plt.plot(v, VPG, label=\"VPG\")\n",
    "plt.legend(loc='best')\n",
    "plt.xlabel('V')\n",
    "plt.ylabel('$\\mu (V)$')\n",
    "plt.show()"
   ]
  },
  {
   "cell_type": "markdown",
   "metadata": {},
   "source": [
    "<h4>2. Fuzzificación</h4>"
   ]
  },
  {
   "cell_type": "code",
   "execution_count": null,
   "metadata": {},
   "outputs": [],
   "source": [
    "e0 = 7 #el valor de error actual\n",
    "\n",
    "#Fuzzificar: encontrar la pertenencia de e0 a cada conjunto difuso de entrada\n",
    "val_ENG = trapmf(e0, [-20, -20, -10, -5])\n",
    "val_ENP = trimf(e0, [-10, -5, 0])\n",
    "val_EC = trimf(e0, [-5, 0, 5])\n",
    "val_EPP = trimf(e0, [0, 5, 10])\n",
    "val_EPG = trapmf(e0, [5, 10, 20, 20])\n",
    "\n",
    "#Visualicemos los valores\n",
    "print('val_ENG =',val_ENG)\n",
    "print('val_ENP =',val_ENP)\n",
    "print('val_EC =',val_EC)\n",
    "print('val_EPP =',val_EPP)\n",
    "print('val_EPG =',val_EPG)\n",
    "\n",
    "#Graficamos para visualizar sus posiciones\n",
    "plt.plot(e, ENG, label=\"ENG\")\n",
    "plt.plot(e, ENP, label=\"ENP\")\n",
    "plt.plot(e, EC, label=\"EC\")\n",
    "plt.plot(e, EPP, label=\"EPP\")\n",
    "plt.plot(e, EPG, label=\"EPG\")\n",
    "plt.legend(loc='best')\n",
    "\n",
    "plt.plot([e0, e0], [0.0, 1.0], linestyle=\"--\")\n",
    "plt.plot(e0, val_ENG, 'x')\n",
    "plt.plot(e0, val_ENP, 'x')\n",
    "plt.plot(e0, val_EC, 'x')\n",
    "plt.plot(e0, val_EPP, 'x')\n",
    "plt.plot(e0, val_EPG, 'x')\n",
    "plt.xlabel('error')\n",
    "plt.ylabel('$\\mu (e)$')\n",
    "plt.show()\n"
   ]
  },
  {
   "cell_type": "markdown",
   "metadata": {},
   "source": [
    "<h4>3. Método de Inferencia </h4>"
   ]
  },
  {
   "cell_type": "code",
   "execution_count": null,
   "metadata": {},
   "outputs": [],
   "source": [
    "# Se calculan las funciones cortadas\n",
    "VNGp = cut(val_ENG, VNG)\n",
    "VNPp = cut(val_ENP, VNP)\n",
    "VCp = cut(val_EC, VC)\n",
    "VPPp = cut(val_EPP, VPP)\n",
    "VPGp = cut(val_EPG, VPG)\n",
    "\n",
    "# se unen\n",
    "Vp = union([VNGp, VNPp, VCp, VPPp, VPGp])\n",
    "\n",
    "# y graficamos\n",
    "plt.plot(v, VNG, label=\"VNG\")\n",
    "plt.plot(v, VNP, label=\"VNP\")\n",
    "plt.plot(v, VC, label=\"VC\")\n",
    "plt.plot(v, VPP, label=\"VPP\")\n",
    "plt.plot(v, VPG, label=\"VPG\")\n",
    "plt.plot(v, Vp, label=\"Vp\", linewidth=3)\n",
    "plt.legend(loc='best')\n",
    "plt.show()"
   ]
  },
  {
   "cell_type": "markdown",
   "metadata": {},
   "source": [
    "<h4>4. Defuzzificación </h4>"
   ]
  },
  {
   "cell_type": "code",
   "execution_count": null,
   "metadata": {},
   "outputs": [],
   "source": [
    "# Aplicamos defuzzificación\n",
    "out_centroid = defuzz(v, Vp, 'centroid')\n",
    "out_bisector = defuzz(v, Vp, 'bisector')\n",
    "out_MOM = defuzz(v, Vp, 'MOM')\n",
    "out_SOM = defuzz(v, Vp, 'SOM')\n",
    "out_LOM = defuzz(v, Vp, 'LOM')"
   ]
  },
  {
   "cell_type": "code",
   "execution_count": null,
   "metadata": {},
   "outputs": [],
   "source": [
    "# Los valores son:\n",
    "print 'out_centroid = ', out_centroid\n",
    "print 'out_bisector = ', out_bisector\n",
    "print 'out_MOM = ', out_MOM\n",
    "print 'out_SOM = ', out_SOM\n",
    "print 'out_LOM = ', out_LOM"
   ]
  },
  {
   "cell_type": "code",
   "execution_count": null,
   "metadata": {},
   "outputs": [],
   "source": [
    "#Graficamos para comparar\n",
    "#Graficamos para visualizar sus posiciones\n",
    "\n",
    "plt.plot(v, Vp, linewidth=2.5, linestyle=\"-\", label=\"Vp\")\n",
    "plt.plot([out_centroid, out_centroid], [0, 1], linestyle=\":\", label=\"out_centroid\")\n",
    "plt.plot([out_bisector, out_bisector], [0, 1], linestyle=\":\", label=\"out_bisector\")\n",
    "plt.plot([out_MOM, out_MOM], [0, 1], linestyle=\":\", label=\"out_MOM\")\n",
    "plt.plot([out_SOM, out_SOM], [0, 1], linestyle=\":\", label=\"out_SOM\")\n",
    "plt.plot([out_LOM, out_LOM], [0, 1], linestyle=\":\", label=\"out_LOM\")\n",
    "plt.legend(loc='best')\n",
    "plt.show()"
   ]
  },
  {
   "cell_type": "code",
   "execution_count": null,
   "metadata": {},
   "outputs": [],
   "source": [
    "#EXTRA: Gráfico de la superficie de control\n",
    "# La superficie de control (o curvas de controlador) permiten\n",
    "# visualizar la salida del controlador para los distintos valores de error.\n",
    "\n",
    "e = np.linspace(-20, 20, 100) # entrada (error)\n",
    "out = np.zeros(e.size)        # salida (voltaje)\n",
    "\n",
    "for i in range(e.size):\n",
    "    val = float(e[i])\n",
    "    \n",
    "    #fuzzificar\n",
    "    val_ENGi = trapmf(val, [-20, -20, -10, -5])\n",
    "    val_ENPi = trimf(val, [-10, -5, 0])\n",
    "    val_ECi = trimf(val, [-5, 0, 5])\n",
    "    val_EPPi = trimf(val, [0, 5, 10])\n",
    "    val_EPGi = trapmf(val, [5, 10, 20, 20])\n",
    "    \n",
    "    #cortar\n",
    "    VNGpi = cut(val_ENGi, VNG)\n",
    "    VNPpi = cut(val_ENPi, VNP)\n",
    "    VCpi = cut(val_ECi, VC)\n",
    "    VPPpi = cut(val_EPPi, VPP)\n",
    "    VPGpi = cut(val_EPGi, VPG)\n",
    "\n",
    "    #Unir\n",
    "    Vp = union([VNGpi, VNPpi, VCpi, VPPpi, VPGpi])\n",
    "    \n",
    "    #defuzzificar\n",
    "    out[i] = defuzz(v, Vp, 'centroid')\n",
    "    \n",
    "plt.plot(e, out)\n",
    "plt.xlabel('error')\n",
    "plt.ylabel('Vmotor')\n",
    "plt.show()\n"
   ]
  },
  {
   "cell_type": "markdown",
   "metadata": {},
   "source": [
    "<h3>Procedimiento abreviado para uso con la librería <i>fuzzy.py</i></h3>"
   ]
  },
  {
   "cell_type": "code",
   "execution_count": null,
   "metadata": {},
   "outputs": [],
   "source": [
    "# 1. Definir universo de discurso para entrada y salida\n",
    "x = np.linspace(-20, 20, 100)\n",
    "y = np.linspace(-12, 12, 100)\n",
    "\n",
    "# 2. Definir las funciones de membresía para reglas de control\n",
    "#    en la forma \"Si x es Ai, entonces y es Bi\"\n",
    "A1 = [trapmf, [-20, -20, -10, -5]]\n",
    "A2 = [trimf, [-10, -5, 0]]\n",
    "A3 = [trimf, [-5, 0, 5]]\n",
    "A4 = [trimf, [0, 5, 10]]\n",
    "A5 = [trapmf, [5, 10, 20, 20]]\n",
    "\n",
    "B1 = [trapmf, [-12, -12, -6, -3]]\n",
    "B2 = [trimf, [-6, -3, 0]]\n",
    "B3 = [trimf, [-3, 0, 3]]\n",
    "B4 = [trimf, [0, 3, 6]]\n",
    "B5 = [trapmf, [3, 6, 12, 12]]\n",
    "\n",
    "A = [A1, A2, A3, A4, A5]\n",
    "B = [B1, B2, B3, B4, B5]\n",
    "\n",
    "# 3. Implementar el Modus Ponens a partir de un valor de entrada\n",
    "x0 = 3.5\n",
    "Bp = fuzz(x0, y, A, B)\n",
    "\n",
    "# 4. Defuzzificar para obtener la salida\n",
    "out = defuzz(y, Bp, 'centroid')\n",
    "\n",
    "print(\"out:\", out)\n",
    "plt.plot(y, Bp, label=\"Bp\")\n",
    "plt.plot([out, out], [0, 1], linestyle=\":\", label=\"out\")\n",
    "plt.legend(loc='best')\n",
    "plt.show()"
   ]
  },
  {
   "cell_type": "code",
   "execution_count": null,
   "metadata": {},
   "outputs": [],
   "source": [
    "# ¿Cuánto tarda el proceso de cálculo?\n",
    "from time import time  #importamos la librería para medir tiempo\n",
    "t_inicial = time()\n",
    "\n",
    "#  medimos desde aquí --->\n",
    "Bp = fuzz(x0, y, A, B)\n",
    "out = defuzz(y, Bp, 'centroid')\n",
    "# ---> hasta aquí\n",
    "\n",
    "t_final = time() \n",
    "print(\"Tiempo de ejecucion:\", t_final - t_inicial)"
   ]
  },
  {
   "cell_type": "code",
   "execution_count": null,
   "metadata": {},
   "outputs": [],
   "source": [
    "# Curvas de control para los distintos métodos de defuzzificación:\n",
    "out_centroid = np.zeros(x.size)\n",
    "out_bisector = np.zeros(x.size)\n",
    "out_MOM = np.zeros(x.size)\n",
    "out_SOM = np.zeros(x.size)\n",
    "out_LOM = np.zeros(x.size)\n",
    "    \n",
    "for i in range(x.size):\n",
    "    x0 = float(x[i])\n",
    "    Bp = fuzz(x0, y, A, B)\n",
    "    out_centroid[i] = defuzz(y, Bp, 'centroid')\n",
    "    out_bisector[i] = defuzz(y, Bp, 'bisector')\n",
    "    out_MOM[i] = defuzz(y, Bp, 'MOM')\n",
    "    out_SOM[i] = defuzz(y, Bp, 'SOM')\n",
    "    out_LOM[i] = defuzz(y, Bp, 'LOM')\n",
    "    \n",
    "plt.plot(x, out_centroid, label=\"centroid\")\n",
    "plt.plot(x, out_bisector, label=\"bisector\")\n",
    "plt.plot(x, out_MOM, label=\"MOM\")\n",
    "#pl.plot(x, out_SOM, label=\"SOM\")\n",
    "#pl.plot(x, out_LOM, label=\"LOM\")\n",
    "plt.legend()\n",
    "plt.xlabel('error')\n",
    "plt.ylabel('out')\n",
    "plt.show()"
   ]
  },
  {
   "cell_type": "markdown",
   "metadata": {},
   "source": [
    "<h3>Taller 5 - Control Difuso </h3> <br>\n",
    "Repita el ejemplo de control de posición para atender a los siguientes requerimientos:<br>\n",
    "1. Definir solo tres valores linguisticos para el error de posición: error negativo, error cero y error positivo.<br>\n",
    "2. Definir solo tres valores linguisticos para el voltaje el motor: voltaje negativo, voltaje cero y voltaje positivo.<br>\n",
    "3. Realizar el proceso de fuzzificación y defuzzificación para todos los posibles valores de error y obtener la curva de control para los métodos de bisectriz, centroide y MOM."
   ]
  },
  {
   "cell_type": "code",
   "execution_count": null,
   "metadata": {},
   "outputs": [],
   "source": [
    "# Escriba sus respuestas aquí"
   ]
  },
  {
   "cell_type": "code",
   "execution_count": null,
   "metadata": {},
   "outputs": [],
   "source": []
  }
 ],
 "metadata": {
  "kernelspec": {
   "display_name": "Python 3 (ipykernel)",
   "language": "python",
   "name": "python3"
  },
  "language_info": {
   "codemirror_mode": {
    "name": "ipython",
    "version": 3
   },
   "file_extension": ".py",
   "mimetype": "text/x-python",
   "name": "python",
   "nbconvert_exporter": "python",
   "pygments_lexer": "ipython3",
   "version": "3.9.12"
  }
 },
 "nbformat": 4,
 "nbformat_minor": 2
}
